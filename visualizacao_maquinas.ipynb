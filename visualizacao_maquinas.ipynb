{
 "cells": [
  {
   "cell_type": "code",
   "execution_count": null,
   "id": "ed546716",
   "metadata": {},
   "outputs": [],
   "source": [
    "\n",
    "# Caso necessário, instale as bibliotecas\n",
    "# !pip install pandas matplotlib seaborn\n"
   ]
  },
  {
   "cell_type": "code",
   "execution_count": null,
   "id": "d7a9283c",
   "metadata": {},
   "outputs": [],
   "source": [
    "\n",
    "import pandas as pd\n",
    "import json\n",
    "import matplotlib.pyplot as plt\n",
    "import seaborn as sns\n",
    "from google.colab import drive\n",
    "\n",
    "# Montar o Google Drive\n",
    "drive.mount('/content/drive')\n"
   ]
  },
  {
   "cell_type": "code",
   "execution_count": null,
   "id": "d585bbdf",
   "metadata": {},
   "outputs": [],
   "source": [
    "\n",
    "# Substitua o caminho abaixo pelo caminho do seu arquivo JSON no Google Drive\n",
    "json_path = '/content/drive/MyDrive/seu_arquivo.json'\n",
    "\n",
    "with open(json_path, 'r') as f:\n",
    "    data = json.load(f)\n",
    "\n",
    "# Verificar a estrutura do primeiro registro\n",
    "data[0].keys()\n"
   ]
  },
  {
   "cell_type": "code",
   "execution_count": null,
   "id": "29dbc70b",
   "metadata": {},
   "outputs": [],
   "source": [
    "\n",
    "# Coletar dados de performance das máquinas\n",
    "registros = []\n",
    "for registro in data:\n",
    "    timestamp = registro['timestamp']['$date']\n",
    "    kpis = registro.get('kpis', {}).get('brre_1_bm', {})\n",
    "    for machine_id, machine_data in kpis.items():\n",
    "        perf = machine_data.get('performance', {})\n",
    "        registros.append({\n",
    "            'timestamp': timestamp,\n",
    "            'machine': machine_id,\n",
    "            'availability': perf.get('availability'),\n",
    "            'performance': perf.get('performance'),\n",
    "            'quality': perf.get('quality'),\n",
    "            'oee': perf.get('oee'),\n",
    "            'input': perf.get('manufacturing', {}).get('input'),\n",
    "            'output': perf.get('manufacturing', {}).get('output'),\n",
    "            'spoilage': perf.get('manufacturing', {}).get('spoilage')\n",
    "        })\n",
    "\n",
    "df = pd.DataFrame(registros)\n",
    "df['timestamp'] = pd.to_datetime(df['timestamp'])\n",
    "\n",
    "# Exibir as primeiras linhas\n",
    "df.head()\n"
   ]
  },
  {
   "cell_type": "code",
   "execution_count": null,
   "id": "de0c901d",
   "metadata": {},
   "outputs": [],
   "source": [
    "\n",
    "# Visualização da OEE ao longo do tempo por máquina\n",
    "plt.figure(figsize=(12,6))\n",
    "sns.lineplot(data=df, x='timestamp', y='oee', hue='machine', marker='o')\n",
    "plt.title('OEE ao longo do tempo por máquina')\n",
    "plt.ylabel('OEE')\n",
    "plt.xlabel('Timestamp')\n",
    "plt.xticks(rotation=45)\n",
    "plt.grid(True)\n",
    "plt.tight_layout()\n",
    "plt.show()\n"
   ]
  }
 ],
 "metadata": {},
 "nbformat": 4,
 "nbformat_minor": 5
}
